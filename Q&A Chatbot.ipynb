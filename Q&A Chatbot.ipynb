{
 "cells": [
  {
   "cell_type": "code",
   "execution_count": 23,
   "id": "bb429582",
   "metadata": {},
   "outputs": [],
   "source": [
    "#importing necessary libraries\n",
    "from transformers import pipeline\n",
    "import pandas as pd\n",
    "import docx2txt"
   ]
  },
  {
   "cell_type": "code",
   "execution_count": 24,
   "id": "45c6ac79",
   "metadata": {},
   "outputs": [],
   "source": [
    "# model selection for question answering task\n",
    "model = \"deepset/roberta-base-squad2\""
   ]
  },
  {
   "cell_type": "code",
   "execution_count": 35,
   "id": "78632d55",
   "metadata": {},
   "outputs": [],
   "source": [
    "# Model building\n",
    "qa = pipeline(\n",
    "    'question-answering',\n",
    "    model = model\n",
    ")"
   ]
  },
  {
   "cell_type": "code",
   "execution_count": 36,
   "id": "a3d05ebf",
   "metadata": {},
   "outputs": [],
   "source": [
    "# Test sample\n",
    "file = \"ecommerce Sample doc (1).docx\"\n",
    "extracted_txt = docx2txt.process(file)"
   ]
  },
  {
   "cell_type": "code",
   "execution_count": 42,
   "id": "93b36fc9",
   "metadata": {},
   "outputs": [],
   "source": [
    "# Ask question here\n",
    "question = \"How can I cancel my order?\""
   ]
  },
  {
   "cell_type": "code",
   "execution_count": 43,
   "id": "e19e1357",
   "metadata": {},
   "outputs": [
    {
     "name": "stdout",
     "output_type": "stream",
     "text": [
      "by visiting the Your Orders section in Your Account\n"
     ]
    }
   ],
   "source": [
    "# Answering the question\n",
    "answer = qa(question = question , context = extracted_txt)[\"answer\"]\n",
    "print(answer)"
   ]
  },
  {
   "cell_type": "code",
   "execution_count": null,
   "id": "7185c63f",
   "metadata": {},
   "outputs": [],
   "source": []
  }
 ],
 "metadata": {
  "kernelspec": {
   "display_name": "Python 3 (ipykernel)",
   "language": "python",
   "name": "python3"
  },
  "language_info": {
   "codemirror_mode": {
    "name": "ipython",
    "version": 3
   },
   "file_extension": ".py",
   "mimetype": "text/x-python",
   "name": "python",
   "nbconvert_exporter": "python",
   "pygments_lexer": "ipython3",
   "version": "3.9.13"
  }
 },
 "nbformat": 4,
 "nbformat_minor": 5
}
